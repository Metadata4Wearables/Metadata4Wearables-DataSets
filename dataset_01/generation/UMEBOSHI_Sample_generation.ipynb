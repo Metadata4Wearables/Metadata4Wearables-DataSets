{
 "cells": [
  {
   "cell_type": "markdown",
   "metadata": {},
   "source": [
    "# UMEBOSHI dataset\n",
    "\n",
    "The following notebook generate synthetic data, supposed to have been acquired during the fictional \"Umeboshi\" study. This dataset comprises 6 files containing synthetic data and\n",
    "is meant to illustrate the various issues encountered during\n",
    "actigraphy data acquisition.\n",
    "\n",
    "* UMEBOSHI_01.AWD: regular acquisition;\n",
    "* UMEBOSHI_02.AWD: delayed acquisition (\"false start\");\n",
    "* UMEBOSHI_03.AWD: missing data (\"no wear period (short&recurrent)\");\n",
    "* UMEBOSHI_04.AWD: regular acquisition;\n",
    "* UMEBOSHI_05.AWD: delayed acquisition (\"false stop\");\n",
    "* UMEBOSHI_06.AWD: missing data (\"no wear period (long)\")."
   ]
  },
  {
   "cell_type": "markdown",
   "metadata": {
    "heading_collapsed": true
   },
   "source": [
    "## Import packages"
   ]
  },
  {
   "cell_type": "code",
   "execution_count": null,
   "metadata": {
    "hidden": true
   },
   "outputs": [],
   "source": [
    "import numpy as np\n",
    "import pandas as pd"
   ]
  },
  {
   "cell_type": "code",
   "execution_count": null,
   "metadata": {
    "hidden": true
   },
   "outputs": [],
   "source": [
    "import pyActigraphy"
   ]
  },
  {
   "cell_type": "code",
   "execution_count": null,
   "metadata": {
    "hidden": true
   },
   "outputs": [],
   "source": [
    "from pyActigraphy.tests.generate_dataset import generate_series, generate_squarewave"
   ]
  },
  {
   "cell_type": "code",
   "execution_count": null,
   "metadata": {
    "hidden": true
   },
   "outputs": [],
   "source": [
    "import plotly.graph_objects as go"
   ]
  },
  {
   "cell_type": "markdown",
   "metadata": {},
   "source": [
    "## Synthetic data generation\n",
    "\n",
    "These synthetic data are generated with a square wave, corrupted by a white noise."
   ]
  },
  {
   "cell_type": "markdown",
   "metadata": {
    "heading_collapsed": true
   },
   "source": [
    "### Settings"
   ]
  },
  {
   "cell_type": "code",
   "execution_count": null,
   "metadata": {
    "hidden": true
   },
   "outputs": [],
   "source": [
    "N=10800  # Number of points to generate: 7+1/2 days at a sampling period of 60 sec."
   ]
  },
  {
   "cell_type": "code",
   "execution_count": null,
   "metadata": {
    "hidden": true
   },
   "outputs": [],
   "source": [
    "T=86400  # Period (in seconds) of the square wave signal"
   ]
  },
  {
   "cell_type": "code",
   "execution_count": null,
   "metadata": {
    "hidden": true
   },
   "outputs": [],
   "source": [
    "Ts=60  # Sampling period (sec)"
   ]
  },
  {
   "cell_type": "code",
   "execution_count": null,
   "metadata": {
    "hidden": true
   },
   "outputs": [],
   "source": [
    "A=1000  # Amplitude of the signal (u.a)"
   ]
  },
  {
   "cell_type": "code",
   "execution_count": null,
   "metadata": {
    "hidden": true
   },
   "outputs": [],
   "source": [
    "add_noise=True\n",
    "noise_power=(A/10)  # Amplitude of the white Gaussian noise"
   ]
  },
  {
   "cell_type": "code",
   "execution_count": null,
   "metadata": {
    "hidden": true
   },
   "outputs": [],
   "source": [
    "offset=True  # If set to True, the signal is comprised between [0,2A] and between [-A,A] otherwise."
   ]
  },
  {
   "cell_type": "code",
   "execution_count": null,
   "metadata": {
    "hidden": true
   },
   "outputs": [],
   "source": [
    "# Set seed for reproducibility\n",
    "rng = np.random.default_rng(seed=0)"
   ]
  },
  {
   "cell_type": "markdown",
   "metadata": {
    "heading_collapsed": true
   },
   "source": [
    "### Helper function"
   ]
  },
  {
   "cell_type": "code",
   "execution_count": null,
   "metadata": {
    "code_folding": [
     0
    ],
    "hidden": true
   },
   "outputs": [],
   "source": [
    "def create_awd_header(subject_id, start_time):\n",
    "\n",
    "    # AWD file header\n",
    "    header = [\n",
    "        '{}'.format(subject_id),\n",
    "        pd.to_datetime(start_time, dayfirst=True).strftime(\"%d-%b-%Y\"),\n",
    "        pd.to_datetime(start_time, dayfirst=True).strftime(\"%H:%M\"),\n",
    "        '4',\n",
    "        '0',\n",
    "        'Vff1234', # V: Actiwatch Plus, AW4 or AW64.\n",
    "        'X'\n",
    "    ]\n",
    "\n",
    "    return header"
   ]
  },
  {
   "cell_type": "code",
   "execution_count": null,
   "metadata": {
    "code_folding": [
     0
    ],
    "hidden": true
   },
   "outputs": [],
   "source": [
    "def create_awd_data(start_time, N, T, Ts, A, add_noise, noise_power, offset):\n",
    "\n",
    "    # Generate a square wave signal\n",
    "    data = generate_series(\n",
    "        np.abs(generate_squarewave(\n",
    "            N=N,  # number of samples\n",
    "            T=T,  # period in sec: 24*60*60\n",
    "            Ts=Ts,  # sampling rate (sec.)\n",
    "            A=A,  # oscillation amplitude\n",
    "            add_noise=add_noise,  # add gaussian noise\n",
    "            noise_power=noise_power,\n",
    "            offset=offset  # offset oscillations between 0 and +2A\n",
    "        )),\n",
    "        start=start_time,\n",
    "        sampling_period=Ts\n",
    "    ).astype(int)\n",
    "\n",
    "    return data"
   ]
  },
  {
   "cell_type": "code",
   "execution_count": null,
   "metadata": {
    "code_folding": [
     0
    ],
    "hidden": true
   },
   "outputs": [],
   "source": [
    "def create_awd_file(subject_id, header, data):\n",
    "    \n",
    "    # Write AWD file to disk\n",
    "    with open('{}.AWD'.format(subject_id), 'w') as f:\n",
    "        f.writelines('\\n'.join(header))\n",
    "        f.write('\\n')\n",
    "        f.write(data.to_csv(index=False))"
   ]
  },
  {
   "cell_type": "markdown",
   "metadata": {
    "heading_collapsed": true
   },
   "source": [
    "### UMEBOSHI file headers"
   ]
  },
  {
   "cell_type": "code",
   "execution_count": null,
   "metadata": {
    "hidden": true
   },
   "outputs": [],
   "source": [
    "# Create a dictionary with k: subject ID and v: start time\n",
    "start_times = {\n",
    "    'UMEBOSHI_{:02d}'.format(idx+1):'{:02d}/01/2000 08:00:00'.format(rint)\n",
    "    for idx, rint in enumerate(rng.integers(1, high=31, size=6, dtype=int))\n",
    "}"
   ]
  },
  {
   "cell_type": "code",
   "execution_count": null,
   "metadata": {
    "hidden": true
   },
   "outputs": [],
   "source": [
    "start_times"
   ]
  },
  {
   "cell_type": "code",
   "execution_count": null,
   "metadata": {
    "hidden": true
   },
   "outputs": [],
   "source": [
    "headers = {\n",
    "    k: create_awd_header(k, v) for k,v in start_times.items()\n",
    "}"
   ]
  },
  {
   "cell_type": "markdown",
   "metadata": {
    "heading_collapsed": true
   },
   "source": [
    "### UMEBOSHI data"
   ]
  },
  {
   "cell_type": "code",
   "execution_count": null,
   "metadata": {
    "hidden": true
   },
   "outputs": [],
   "source": [
    "data = {\n",
    "    k: create_awd_data(v, N, T, Ts, A, add_noise, noise_power, offset)\n",
    "    for k, v in start_times.items()\n",
    "}"
   ]
  },
  {
   "cell_type": "markdown",
   "metadata": {
    "heading_collapsed": true
   },
   "source": [
    "### UMEBOSHI 01 (\"regular acquisition\")"
   ]
  },
  {
   "cell_type": "code",
   "execution_count": null,
   "metadata": {
    "hidden": true
   },
   "outputs": [],
   "source": [
    "# Write data file\n",
    "create_awd_file('UMEBOSHI_01', headers['UMEBOSHI_01'], data['UMEBOSHI_01'])"
   ]
  },
  {
   "cell_type": "code",
   "execution_count": null,
   "metadata": {
    "hidden": true
   },
   "outputs": [],
   "source": [
    "# Read created file with pyActigraphy (check if file is a valid AWD file)\n",
    "raw_01 = pyActigraphy.io.read_raw_awd('UMEBOSHI_01.AWD')"
   ]
  },
  {
   "cell_type": "code",
   "execution_count": null,
   "metadata": {
    "hidden": true
   },
   "outputs": [],
   "source": [
    "# Visualize data\n",
    "go.Figure(go.Scatter(x=raw_01.data.index.astype(str),y=raw_01.data))"
   ]
  },
  {
   "cell_type": "markdown",
   "metadata": {
    "heading_collapsed": true
   },
   "source": [
    "### UMEBOSHI 02 (\"delayed acquisition: false start\")"
   ]
  },
  {
   "cell_type": "code",
   "execution_count": null,
   "metadata": {
    "hidden": true
   },
   "outputs": [],
   "source": [
    "# Modify the original data:\n",
    "# False start (3h)\n",
    "data['UMEBOSHI_02'].loc[:data['UMEBOSHI_02'].index[0]+pd.Timedelta(\"3h\")] = 0"
   ]
  },
  {
   "cell_type": "code",
   "execution_count": null,
   "metadata": {
    "hidden": true
   },
   "outputs": [],
   "source": [
    "# Write data file\n",
    "create_awd_file('UMEBOSHI_02', headers['UMEBOSHI_02'], data['UMEBOSHI_02'])"
   ]
  },
  {
   "cell_type": "code",
   "execution_count": null,
   "metadata": {
    "hidden": true
   },
   "outputs": [],
   "source": [
    "# Read created file with pyActigraphy (check if file is a valid AWD file)\n",
    "raw_02 = pyActigraphy.io.read_raw_awd('UMEBOSHI_02.AWD')"
   ]
  },
  {
   "cell_type": "code",
   "execution_count": null,
   "metadata": {
    "hidden": true
   },
   "outputs": [],
   "source": [
    "# Visualize data\n",
    "go.Figure(go.Scatter(x=raw_02.data.index.astype(str),y=raw_02.data))"
   ]
  },
  {
   "cell_type": "markdown",
   "metadata": {
    "heading_collapsed": true
   },
   "source": [
    "### UMEBOSHI 03 (\"missing data: no wear period (short&recurrent)\")"
   ]
  },
  {
   "cell_type": "code",
   "execution_count": null,
   "metadata": {
    "hidden": true
   },
   "outputs": [],
   "source": [
    "shower_start_time = '09:10:00'\n",
    "shower_stop_time = '09:25:00'"
   ]
  },
  {
   "cell_type": "code",
   "execution_count": null,
   "metadata": {
    "hidden": true
   },
   "outputs": [],
   "source": [
    "# Modify the original data:\n",
    "# no-wear period of 15 min every day at the same time of day\n",
    "data['UMEBOSHI_03'].loc[\n",
    "    data['UMEBOSHI_03'].between_time(shower_start_time,shower_stop_time).index\n",
    "] = 0"
   ]
  },
  {
   "cell_type": "code",
   "execution_count": null,
   "metadata": {
    "hidden": true
   },
   "outputs": [],
   "source": [
    "# Write data file\n",
    "create_awd_file('UMEBOSHI_03', headers['UMEBOSHI_03'], data['UMEBOSHI_03'])"
   ]
  },
  {
   "cell_type": "code",
   "execution_count": null,
   "metadata": {
    "hidden": true
   },
   "outputs": [],
   "source": [
    "# Read created file with pyActigraphy (check if file is a valid AWD file)\n",
    "raw_03 = pyActigraphy.io.read_raw_awd('UMEBOSHI_03.AWD')"
   ]
  },
  {
   "cell_type": "code",
   "execution_count": null,
   "metadata": {
    "hidden": true
   },
   "outputs": [],
   "source": [
    "# Visualize data\n",
    "go.Figure(go.Scatter(x=raw_03.data.index.astype(str),y=raw_03.data))"
   ]
  },
  {
   "cell_type": "markdown",
   "metadata": {
    "heading_collapsed": true
   },
   "source": [
    "### UMEBOSHI 04 (\"regular acquisition\")"
   ]
  },
  {
   "cell_type": "code",
   "execution_count": null,
   "metadata": {
    "hidden": true
   },
   "outputs": [],
   "source": [
    "# Write data file\n",
    "create_awd_file('UMEBOSHI_04', headers['UMEBOSHI_04'], data['UMEBOSHI_04'])"
   ]
  },
  {
   "cell_type": "code",
   "execution_count": null,
   "metadata": {
    "hidden": true
   },
   "outputs": [],
   "source": [
    "# Read created file with pyActigraphy (check if file is a valid AWD file)\n",
    "raw_04 = pyActigraphy.io.read_raw_awd('UMEBOSHI_04.AWD')"
   ]
  },
  {
   "cell_type": "code",
   "execution_count": null,
   "metadata": {
    "hidden": true
   },
   "outputs": [],
   "source": [
    "# Visualize data\n",
    "go.Figure(go.Scatter(x=raw_04.data.index.astype(str),y=raw_04.data))"
   ]
  },
  {
   "cell_type": "markdown",
   "metadata": {
    "heading_collapsed": true
   },
   "source": [
    "### UMEBOSHI 05 (\"delayed acquisition: false stop\")"
   ]
  },
  {
   "cell_type": "code",
   "execution_count": null,
   "metadata": {
    "hidden": true
   },
   "outputs": [],
   "source": [
    "# Modify the original data:\n",
    "# False stop (3h)\n",
    "data['UMEBOSHI_05'].loc[data['UMEBOSHI_05'].index[-1]-pd.Timedelta(\"3h\"):] = 0"
   ]
  },
  {
   "cell_type": "code",
   "execution_count": null,
   "metadata": {
    "hidden": true
   },
   "outputs": [],
   "source": [
    "# Write data file\n",
    "create_awd_file('UMEBOSHI_05', headers['UMEBOSHI_05'], data['UMEBOSHI_05'])"
   ]
  },
  {
   "cell_type": "code",
   "execution_count": null,
   "metadata": {
    "hidden": true
   },
   "outputs": [],
   "source": [
    "# Read created file with pyActigraphy (check if file is a valid AWD file)\n",
    "raw_05 = pyActigraphy.io.read_raw_awd('UMEBOSHI_05.AWD')"
   ]
  },
  {
   "cell_type": "code",
   "execution_count": null,
   "metadata": {
    "hidden": true
   },
   "outputs": [],
   "source": [
    "# Visualize data\n",
    "go.Figure(go.Scatter(x=raw_05.data.index.astype(str),y=raw_05.data))"
   ]
  },
  {
   "cell_type": "markdown",
   "metadata": {},
   "source": [
    "### UMEBOSHI 06 (\"missing data: no wear period (long)\")"
   ]
  },
  {
   "cell_type": "code",
   "execution_count": null,
   "metadata": {},
   "outputs": [],
   "source": [
    "# Modify the original data:\n",
    "# Create a long no-wear period at the middle of the recording\n",
    "middle_time = data['UMEBOSHI_06'].index[len(data['UMEBOSHI_06'])//2]"
   ]
  },
  {
   "cell_type": "code",
   "execution_count": null,
   "metadata": {},
   "outputs": [],
   "source": [
    "data['UMEBOSHI_06'].loc[middle_time:middle_time+pd.Timedelta(\"16h\")] = 0"
   ]
  },
  {
   "cell_type": "code",
   "execution_count": null,
   "metadata": {},
   "outputs": [],
   "source": [
    "# Write data file\n",
    "create_awd_file('UMEBOSHI_06', headers['UMEBOSHI_06'], data['UMEBOSHI_06'])"
   ]
  },
  {
   "cell_type": "code",
   "execution_count": null,
   "metadata": {},
   "outputs": [],
   "source": [
    "# Read created file with pyActigraphy (check if file is a valid AWD file)\n",
    "raw_06 = pyActigraphy.io.read_raw_awd('UMEBOSHI_06.AWD')"
   ]
  },
  {
   "cell_type": "code",
   "execution_count": null,
   "metadata": {},
   "outputs": [],
   "source": [
    "# Visualize data\n",
    "go.Figure(go.Scatter(x=raw_06.data.index.astype(str),y=raw_06.data))"
   ]
  }
 ],
 "metadata": {
  "kernelspec": {
   "display_name": "Python 3 (pyActi)",
   "language": "python",
   "name": "pyacti36"
  },
  "language_info": {
   "codemirror_mode": {
    "name": "ipython",
    "version": 3
   },
   "file_extension": ".py",
   "mimetype": "text/x-python",
   "name": "python",
   "nbconvert_exporter": "python",
   "pygments_lexer": "ipython3",
   "version": "3.6.14"
  }
 },
 "nbformat": 4,
 "nbformat_minor": 4
}
